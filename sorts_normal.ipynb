{
 "cells": [
  {
   "cell_type": "markdown",
   "metadata": {},
   "source": [
    "# 此文档整理了经典排序方法的python实现"
   ]
  },
  {
   "cell_type": "code",
   "execution_count": 1,
   "metadata": {},
   "outputs": [
    {
     "data": {
      "text/plain": [
       "[1, 3, 3, 4, 5, 9, 12, 41, 45, 45, 54, 82, 282, 828, 1293, 1828, 8182, 8192]"
      ]
     },
     "execution_count": 1,
     "metadata": {},
     "output_type": "execute_result"
    }
   ],
   "source": [
    "## 归并排序\n",
    "def merge_sort(seq):\n",
    "    if len(seq)<=1:\n",
    "        return seq\n",
    "    middle = int(len(seq)/2)\n",
    "    left = merge_sort(seq[:middle])\n",
    "    right = merge_sort(seq[middle:])\n",
    "    return merge(left, right)\n",
    "def merge(left,right):\n",
    "    i,j = 0,0\n",
    "    order = []\n",
    "    while i<len(left) and  j<len(right):\n",
    "            if left[i]<right[j]:\n",
    "                order.append(left[i])\n",
    "                i+=1\n",
    "            else:\n",
    "                order.append(right[j])\n",
    "                j+=1\n",
    "    order.extend(left[i:])            \n",
    "    order.extend(right[j:])\n",
    "    return order\n",
    "\n",
    "merge_sort([3,1,45,3,54,41,4,5,9,1293,12,8192,1828,282,828,45,8182,82])"
   ]
  },
  {
   "cell_type": "code",
   "execution_count": 2,
   "metadata": {
    "scrolled": true
   },
   "outputs": [
    {
     "data": {
      "text/plain": [
       "[1, 3, 3, 4, 5, 9, 12, 41, 45, 45, 54, 82, 282, 828, 1293, 1828, 8182, 8192]"
      ]
     },
     "execution_count": 2,
     "metadata": {},
     "output_type": "execute_result"
    }
   ],
   "source": [
    "## 插入排序\n",
    "def inert_sort(seq):\n",
    "    for i in range(1,len(seq)):\n",
    "        for j in range(0,i):\n",
    "            if seq[i] < seq[j]:\n",
    "                seq[j:i+1] = seq[i:i+1]+ seq[j:i]\n",
    "                break\n",
    "    return seq\n",
    "inert_sort([3,1,45,3,54,41,4,5,9,1293,12,8192,1828,282,828,45,8182,82])"
   ]
  },
  {
   "cell_type": "code",
   "execution_count": 3,
   "metadata": {},
   "outputs": [
    {
     "data": {
      "text/plain": [
       "[1, 3, 3, 4, 5, 9, 12, 41, 45, 45, 54, 82, 282, 828, 1293, 1828, 8182, 8192]"
      ]
     },
     "execution_count": 3,
     "metadata": {},
     "output_type": "execute_result"
    }
   ],
   "source": [
    "## 快速排序\n",
    "def quick_sort(seq, begin, end):\n",
    "    if begin >= end:\n",
    "        return \n",
    "    low  = begin\n",
    "    high = end\n",
    "    key = seq[begin]\n",
    "    while low < high:\n",
    "        while low < high and  seq[high] >= key:\n",
    "            high -=1\n",
    "        seq[low] = seq[high]\n",
    "        while low < high and  seq[low] <= key:\n",
    "            low +=1\n",
    "        seq[high] = seq[low] \n",
    "    seq[low] = key\n",
    "    quick_sort(seq, begin, low-1 )\n",
    "    quick_sort(seq, high+1, end )\n",
    "seq = [3,1,45,3,54,41,4,5,9,1293,12,8192,1828,282,828,45,8182,82]\n",
    "quick_sort(seq,0,len(seq)-1)\n",
    "seq"
   ]
  },
  {
   "cell_type": "code",
   "execution_count": 4,
   "metadata": {},
   "outputs": [
    {
     "data": {
      "text/plain": [
       "[1, 3, 3, 4, 5, 9, 12, 41, 45, 45, 54, 82, 282, 828, 1293, 1828, 8182, 8192]"
      ]
     },
     "execution_count": 4,
     "metadata": {},
     "output_type": "execute_result"
    }
   ],
   "source": [
    "## 堆排序\n",
    "def sift_down(seq,start,end):\n",
    "    root = start\n",
    "    while True :\n",
    "        child = 2 * root + 1\n",
    "        if child > end:\n",
    "            break\n",
    "        if child + 1 <= end and seq[child] < seq[child + 1]:\n",
    "            child += 1\n",
    "        if seq[root] < seq[child]:\n",
    "            seq[root], seq[child] = seq[child], seq[root]\n",
    "            root = child\n",
    "        else:\n",
    "            break\n",
    "            \n",
    "def heap_sort(seq):\n",
    "    \n",
    "    for i in range((len(seq)-2)//2, -1, -1):\n",
    "        sift_down(seq, i, len(seq)-1)\n",
    "\n",
    "    for end in range(len(seq)-1, 0, -1):\n",
    "        seq[0], seq[end] = seq[end], seq[0]\n",
    "        sift_down(seq, 0, end-1)\n",
    "\n",
    "    return seq\n",
    "\n",
    "seq = [3,1,45,3,54,41,4,5,9,1293,12,8192,1828,282,828,45,8182,82]\n",
    "heap_sort(seq)"
   ]
  },
  {
   "cell_type": "code",
   "execution_count": 5,
   "metadata": {},
   "outputs": [
    {
     "data": {
      "text/plain": [
       "[1, 3, 3, 4, 5, 9, 12, 41, 45, 45, 54, 82, 282, 828, 1293, 1828, 8182, 8192]"
      ]
     },
     "execution_count": 5,
     "metadata": {},
     "output_type": "execute_result"
    }
   ],
   "source": [
    "## 希尔排序\n",
    "def shell_sort(seq):\n",
    "    step = len(seq)\n",
    "    while step>0:\n",
    "        step = step//2\n",
    "        for i in range(step,len(seq)):\n",
    "            temp = seq[i]\n",
    "            j = i\n",
    "            while j >= step and temp < seq[j-step]:\n",
    "                seq[j] = seq[j-step]\n",
    "                j = j - step\n",
    "            seq[j] = temp\n",
    "    return seq\n",
    "\n",
    "seq = [3,1,45,3,54,41,4,5,9,1293,12,8192,1828,282,828,45,8182,82]\n",
    "shell_sort(seq)"
   ]
  }
 ],
 "metadata": {
  "kernelspec": {
   "display_name": "Python 3",
   "language": "python",
   "name": "python3"
  },
  "language_info": {
   "codemirror_mode": {
    "name": "ipython",
    "version": 3
   },
   "file_extension": ".py",
   "mimetype": "text/x-python",
   "name": "python",
   "nbconvert_exporter": "python",
   "pygments_lexer": "ipython3",
   "version": "3.6.1"
  }
 },
 "nbformat": 4,
 "nbformat_minor": 2
}
