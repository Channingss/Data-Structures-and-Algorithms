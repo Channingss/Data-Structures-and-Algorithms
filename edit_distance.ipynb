{
 "cells": [
  {
   "cell_type": "markdown",
   "metadata": {},
   "source": [
    "### 712. Minimum ASCII Delete Sum for Two Strings\n",
    "Given two strings s1, s2, find the lowest ASCII sum of deleted characters to make two strings equal.\n",
    "\n",
    "Example 1:\n",
    "Input: s1 = \"sea\", s2 = \"eat\"\n",
    "Output: 231\n",
    "Explanation: Deleting \"s\" from \"sea\" adds the ASCII value of \"s\" (115) to the sum.\n",
    "Deleting \"t\" from \"eat\" adds 116 to the sum.\n",
    "At the end, both strings are equal, and 115 + 116 = 231 is the minimum sum possible to achieve this.\n",
    "Example 2:\n",
    "Input: s1 = \"delete\", s2 = \"leet\"\n",
    "Output: 403\n",
    "Explanation: Deleting \"dee\" from \"delete\" to turn the string into \"let\",\n",
    "adds 100[d]+101[e]+101[e] to the sum.  Deleting \"e\" from \"leet\" adds 101[e] to the sum.\n",
    "At the end, both strings are equal to \"let\", and the answer is 100+101+101+101 = 403.\n",
    "If instead we turned both strings into \"lee\" or \"eet\", we would get answers of 433 or 417, which are higher.\n",
    "Note:\n",
    "\n",
    "0 < s1.length, s2.length <= 1000.\n",
    "All elements of each string will have an ASCII value in [97, 122].\n",
    "\n",
    "https://leetcode.com/problems/minimum-ascii-delete-sum-for-two-strings/description/"
   ]
  },
  {
   "cell_type": "code",
   "execution_count": null,
   "metadata": {},
   "outputs": [],
   "source": [
    "class Solution:\n",
    "    def minimumDeleteSum(self, s1, s2):\n",
    "        \"\"\"\n",
    "        :type s1: str\n",
    "        :type s2: str\n",
    "        :rtype: int\n",
    "        \"\"\"\n",
    "        len_s1 = len(s1)\n",
    "        len_s2 = len(s2)\n",
    "        array = [[0]*(len_s1+1) for i in range(len_s2+1)]\n",
    "\n",
    "        for i in range(1, len_s2+1):\n",
    "            array[i][0] = array[i-1][0] + ord(s2[i-1])\n",
    "\n",
    "        for i in range(1, len_s1+1):\n",
    "            array[0][i] = array[0][i-1] + ord(s1[i-1])\n",
    "\n",
    "        for i in range(1, len_s2+1):\n",
    "            for j in range(1,len_s1+1):\n",
    "                if s2[i-1] == s1[j-1]:\n",
    "                    array[i][j] = array[i-1][j-1]\n",
    "                else:\n",
    "                    array[i][j] = min(array[i-1][j]+ord(s2[i-1]),array[i][j-1]+ord(s1[j-1]))\n",
    "\n",
    "        return (array[len_s2][len_s1])\n",
    "\n",
    "    \n",
    "        "
   ]
  },
  {
   "cell_type": "markdown",
   "metadata": {},
   "source": [
    "### 72. Edit Distance\n",
    "Given two words word1 and word2, find the minimum number of steps required to convert word1 to word2. (each operation is counted as 1 step.)\n",
    "\n",
    "You have the following 3 operations permitted on a word:\n",
    "\n",
    "a) Insert a character\n",
    "b) Delete a character\n",
    "c) Replace a character\n",
    "https://leetcode.com/problems/edit-distance/description/"
   ]
  },
  {
   "cell_type": "code",
   "execution_count": 1,
   "metadata": {},
   "outputs": [],
   "source": [
    "class Solution:\n",
    "    def minDistance(self, word1, word2):\n",
    "        \"\"\"\n",
    "        :type word1: str\n",
    "        :type word2: str\n",
    "        :rtype: int\n",
    "        \"\"\"\n",
    "        \n",
    "        len_s1 = len(word1)\n",
    "        len_s2 = len(word2)\n",
    "        array = [[0]*(len_s1+1) for i in range(len_s2+1)]\n",
    "\n",
    "        for i in range(1, len_s2+1):\n",
    "            array[i][0] = array[i-1][0] +1\n",
    "\n",
    "        for i in range(1, len_s1+1):\n",
    "            array[0][i] = array[0][i-1] +1\n",
    "\n",
    "        for i in range(1, len_s2+1):\n",
    "            for j in range(1,len_s1+1):\n",
    "                if word2[i-1] == word1[j-1]:\n",
    "                    cost = 0\n",
    "                else:\n",
    "                    cost = 1\n",
    "\n",
    "                array[i][j] = min(array[i-1][j]+1,array[i][j-1]+1,array[i-1][j-1]+cost)\n",
    "\n",
    "        return (array[len_s2][len_s1])\n",
    "\n"
   ]
  },
  {
   "cell_type": "markdown",
   "metadata": {},
   "source": [
    "### 583.Delete Operation for Two Strings\n",
    "\n",
    "Given two words word1 and word2, find the minimum number of steps required to make word1 and word2 the same, where in each step you can delete one character in either string.\n",
    "\n",
    "Example 1:\n",
    "Input: \"sea\", \"eat\"\n",
    "Output: 2\n",
    "Explanation: You need one step to make \"sea\" to \"ea\" and another step to make \"eat\" to \"ea\".\n",
    "Note:\n",
    "The length of given words won't exceed 500.\n",
    "Characters in given words can only be lower-case letters.\n",
    "\n",
    "https://leetcode.com/problems/delete-operation-for-two-strings/description/"
   ]
  },
  {
   "cell_type": "code",
   "execution_count": 2,
   "metadata": {},
   "outputs": [],
   "source": [
    "class Solution:\n",
    "    def minDistance(self, word1, word2):\n",
    "        \"\"\"\n",
    "        :type word1: str\n",
    "        :type word2: str\n",
    "        :rtype: int\n",
    "        \"\"\"\n",
    "        \n",
    "        len_s1 = len(word1)\n",
    "        len_s2 = len(word2)\n",
    "        array = [[0]*(len_s1+1) for i in range(len_s2+1)]\n",
    "\n",
    "        for i in range(1, len_s2+1):\n",
    "            array[i][0] = array[i-1][0] +1\n",
    "\n",
    "        for i in range(1, len_s1+1):\n",
    "            array[0][i] = array[0][i-1] +1\n",
    "\n",
    "        for i in range(1, len_s2+1):\n",
    "            for j in range(1,len_s1+1):\n",
    "                if word2[i-1] == word1[j-1]:\n",
    "                    array[i][j] = array[i-1][j-1]\n",
    "                else:\n",
    "                    array[i][j] = min(array[i-1][j]+1,array[i][j-1]+1)\n",
    "\n",
    "        return (array[len_s2][len_s1])\n"
   ]
  },
  {
   "cell_type": "markdown",
   "metadata": {},
   "source": [
    "### 32. Longest Valid Parentheses\n",
    "Given a string containing just the characters '(' and ')', find the length of the longest valid (well-formed) parentheses substring.\n",
    "\n",
    "For \"(()\", the longest valid parentheses substring is \"()\", which has length = 2.\n",
    "\n",
    "Another example is \")()())\", where the longest valid parentheses substring is \"()()\", which has length = 4.\n",
    "\n",
    "https://leetcode.com/problems/longest-valid-parentheses/description/"
   ]
  },
  {
   "cell_type": "code",
   "execution_count": null,
   "metadata": {},
   "outputs": [],
   "source": [
    "class Solution:\n",
    "    def longestValidParentheses(self, s):\n",
    "        \"\"\"\n",
    "        :type s: str\n",
    "        :rtype: int\n",
    "        \"\"\"\n",
    "        if len(s) ==0:\n",
    "            return 0\n",
    "        \n",
    "        length = [0]*len(s)\n",
    "        \n",
    "        stack = []\n",
    "        for i in range(len(s)):\n",
    "            if s[i]==')' and len(stack)>0:\n",
    "                if stack[-1]=='(':\n",
    "                    stack.pop()\n",
    "                    length[i] = length[i-1]+2\n",
    "                    if i-length[i] >0:\n",
    "                        length[i] += length[i-length[i]]\n",
    "                continue \n",
    "            stack.append(s[i])\n",
    "        return max(length)\n",
    "        "
   ]
  },
  {
   "cell_type": "markdown",
   "metadata": {},
   "source": [
    "### 20. Valid Parentheses\n",
    "Given a string containing just the characters '(', ')', '{', '}', '[' and ']', determine if the input string is valid.\n",
    "\n",
    "The brackets must close in the correct order, \"()\" and \"()[]{}\" are all valid but \"(]\" and \"([)]\" are not.\n",
    "\n",
    "https://leetcode.com/problems/valid-parentheses/description/\n"
   ]
  },
  {
   "cell_type": "code",
   "execution_count": 7,
   "metadata": {},
   "outputs": [
    {
     "name": "stdout",
     "output_type": "stream",
     "text": [
      "[]\n"
     ]
    },
    {
     "data": {
      "text/plain": [
       "True"
      ]
     },
     "execution_count": 7,
     "metadata": {},
     "output_type": "execute_result"
    }
   ],
   "source": [
    "class Solution:\n",
    "    def isValid(self, s):\n",
    "        \"\"\"\n",
    "        :type s: str\n",
    "        :rtype: bool\n",
    "        \"\"\"\n",
    "        if len(s) == 0:\n",
    "            return True\n",
    "        stack = []\n",
    "        for i in range(len(s)):\n",
    "            if s[i]=='(' or s[i]=='[' or s[i]=='{':\n",
    "                stack.append(s[i])\n",
    "            elif len(stack) > 0:\n",
    "                if s[i]==')' and stack[-1]=='(':\n",
    "                    stack.pop()\n",
    "                elif s[i]==']' and stack[-1]=='[':\n",
    "                    stack.pop()\n",
    "                elif s[i]=='}' and stack[-1]=='{':\n",
    "                    stack.pop()\n",
    "                else:\n",
    "                    stack.append(s[i])\n",
    "            else:\n",
    "                stack.append(s[i])\n",
    "        print(stack)\n",
    "        if len(stack)>0:\n",
    "            return False\n",
    "        else:\n",
    "            return True\n",
    "               \n",
    "solution = Solution()\n",
    "solution.isValid('()')"
   ]
  },
  {
   "cell_type": "code",
   "execution_count": 2,
   "metadata": {},
   "outputs": [
    {
     "data": {
      "text/plain": [
       "'101012121'"
      ]
     },
     "execution_count": 2,
     "metadata": {},
     "output_type": "execute_result"
    }
   ],
   "source": [
    "class Solution(object):\n",
    "    def reorganizeString(self, S):\n",
    "        N = len(S)\n",
    "        A = []\n",
    "        for c, x in sorted((S.count(x), x) for x in set(S)):\n",
    "            if c > (N+1)/2: return \"\"\n",
    "            A.extend(c * x)\n",
    "        ans = [None] * N\n",
    "        ans[::2], ans[1::2] = A[int(N/2):], A[:int(N/2)]\n",
    "        return \"\".join(ans)\n",
    "\n",
    "solution = Solution()\n",
    "solution.reorganizeString('111120210')       "
   ]
  },
  {
   "cell_type": "code",
   "execution_count": 19,
   "metadata": {},
   "outputs": [],
   "source": [
    "a = [1,2,1,1,1]\n",
    "a.insert(1,5)"
   ]
  },
  {
   "cell_type": "code",
   "execution_count": 20,
   "metadata": {},
   "outputs": [
    {
     "data": {
      "text/plain": [
       "[1, 5, 2, 1, 1, 1]"
      ]
     },
     "execution_count": 20,
     "metadata": {},
     "output_type": "execute_result"
    }
   ],
   "source": [
    "a"
   ]
  },
  {
   "cell_type": "code",
   "execution_count": null,
   "metadata": {},
   "outputs": [],
   "source": []
  }
 ],
 "metadata": {
  "kernelspec": {
   "display_name": "Python 3",
   "language": "python",
   "name": "python3"
  },
  "language_info": {
   "codemirror_mode": {
    "name": "ipython",
    "version": 3
   },
   "file_extension": ".py",
   "mimetype": "text/x-python",
   "name": "python",
   "nbconvert_exporter": "python",
   "pygments_lexer": "ipython3",
   "version": "3.6.0"
  }
 },
 "nbformat": 4,
 "nbformat_minor": 2
}
